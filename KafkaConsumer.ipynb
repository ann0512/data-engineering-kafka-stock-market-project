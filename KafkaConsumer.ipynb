{
 "cells": [
  {
   "cell_type": "code",
   "execution_count": null,
   "id": "d2127f01",
   "metadata": {},
   "outputs": [],
   "source": [
    "pip install s3fs"
   ]
  },
  {
   "cell_type": "code",
   "execution_count": null,
   "id": "50f25cc1",
   "metadata": {},
   "outputs": [],
   "source": [
    "import pandas as pd\n",
    "from kafka import KafkaConsumer, KafkaProducer\n",
    "from time import sleep\n",
    "from json import dumps,loads\n",
    "import json\n",
    "from s3fs import S3FileSystem"
   ]
  },
  {
   "cell_type": "code",
   "execution_count": null,
   "id": "79b23b35",
   "metadata": {},
   "outputs": [],
   "source": [
    "consumer = KafkaConsumer('demo_test',\n",
    "                         bootstrap_servers=[':9092'], #change ip here\n",
    "                         value_deserializer= lambda x:\n",
    "                         loads(x.decode('utf-8')))"
   ]
  },
  {
   "cell_type": "code",
   "execution_count": null,
   "id": "0c2703b8",
   "metadata": {},
   "outputs": [],
   "source": [
    "# for c in consumer:\n",
    "#     print(c.value)"
   ]
  },
  {
   "cell_type": "code",
   "execution_count": null,
   "id": "27b8cf36",
   "metadata": {},
   "outputs": [],
   "source": [
    "s3 = S3FileSystem()"
   ]
  },
  {
   "cell_type": "code",
   "execution_count": null,
   "id": "be3b2aad",
   "metadata": {},
   "outputs": [],
   "source": [
    "for count, i in enumerate(consumer):\n",
    "     with s3.open(\"s3://kafka-stock-market123-ann/stock_market_{}.json\".format(count), 'w') as file:\n",
    "        json.dump(i.value, file)   "
   ]
  },
  {
   "cell_type": "code",
   "execution_count": null,
   "id": "0e9b002e",
   "metadata": {},
   "outputs": [],
   "source": [
    "# for count, i in enumerate(consumer):\n",
    "#     print(count)\n",
    "#     print(i.value)"
   ]
  },
  {
   "cell_type": "code",
   "execution_count": null,
   "id": "434aedf2",
   "metadata": {},
   "outputs": [],
   "source": []
  }
 ],
 "metadata": {
  "kernelspec": {
   "display_name": "Python 3 (ipykernel)",
   "language": "python",
   "name": "python3"
  },
  "language_info": {
   "codemirror_mode": {
    "name": "ipython",
    "version": 3
   },
   "file_extension": ".py",
   "mimetype": "text/x-python",
   "name": "python",
   "nbconvert_exporter": "python",
   "pygments_lexer": "ipython3",
   "version": "3.7.11"
  }
 },
 "nbformat": 4,
 "nbformat_minor": 5
}
